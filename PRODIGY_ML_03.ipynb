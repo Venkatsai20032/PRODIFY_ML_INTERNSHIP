{
  "cells": [
    {
      "cell_type": "code",
      "execution_count": 9,
      "metadata": {
        "id": "umM90n_EtFQb",
        "colab": {
          "base_uri": "https://localhost:8080/"
        },
        "outputId": "17725324-8399-4ff9-b697-71ac07fe2728"
      },
      "outputs": [
        {
          "output_type": "stream",
          "name": "stdout",
          "text": [
            "Synthetic dataset created.\n"
          ]
        }
      ],
      "source": [
        "import os\n",
        "import shutil\n",
        "import numpy as np\n",
        "import cv2\n",
        "from sklearn.model_selection import train_test_split\n",
        "from sklearn.preprocessing import LabelEncoder\n",
        "from sklearn.svm import SVC\n",
        "from sklearn.metrics import classification_report, accuracy_score\n",
        "import matplotlib.pyplot as plt\n",
        "\n",
        "# Create directories for synthetic dataset\n",
        "os.makedirs('synthetic_dataset/cats', exist_ok=True)\n",
        "os.makedirs('synthetic_dataset/dogs', exist_ok=True)\n",
        "\n",
        "# Create synthetic cat images (black squares)\n",
        "for i in range(50):\n",
        "    image = np.zeros((64, 64, 3), dtype=np.uint8)\n",
        "    cv2.imwrite(f'synthetic_dataset/cats/cat_{i}.jpg', image)\n",
        "\n",
        "# Create synthetic dog images (white squares)\n",
        "for i in range(50):\n",
        "    image = np.ones((64, 64, 3), dtype=np.uint8) * 255\n",
        "    cv2.imwrite(f'synthetic_dataset/dogs/dog_{i}.jpg', image)\n",
        "\n",
        "print(\"Synthetic dataset created.\")\n"
      ]
    },
    {
      "cell_type": "code",
      "source": [
        "import os\n",
        "import numpy as np\n",
        "import cv2\n",
        "from sklearn.model_selection import train_test_split\n",
        "from sklearn.preprocessing import LabelEncoder\n",
        "from sklearn.svm import SVC\n",
        "from sklearn.metrics import classification_report, accuracy_score\n",
        "import matplotlib.pyplot as plt\n",
        "\n",
        "# Function to load images and labels\n",
        "def load_images_and_labels(image_dir, image_size=(64, 64)):\n",
        "    images = []\n",
        "    labels = []\n",
        "    for label in ['cats', 'dogs']:\n",
        "        class_dir = os.path.join(image_dir, label)\n",
        "        for filename in os.listdir(class_dir):\n",
        "            file_path = os.path.join(class_dir, filename)\n",
        "            image = cv2.imread(file_path)\n",
        "            image = cv2.resize(image, image_size)\n",
        "            images.append(image)\n",
        "            labels.append(label)\n",
        "    return np.array(images), np.array(labels)\n",
        "\n",
        "# Load dataset\n",
        "image_dir = 'synthetic_dataset'  # Path to the synthetic dataset\n",
        "image_size = (64, 64)\n",
        "X, y = load_images_and_labels(image_dir, image_size)\n",
        "\n",
        "# Normalize pixel values\n",
        "X = X / 255.0\n",
        "\n",
        "# Encode labels\n",
        "le = LabelEncoder()\n",
        "y = le.fit_transform(y)\n",
        "\n",
        "# Split the dataset\n",
        "X_train, X_test, y_train, y_test = train_test_split(X, y, test_size=0.2, random_state=42)\n",
        "\n",
        "# Flatten the images\n",
        "X_train_flat = X_train.reshape(X_train.shape[0], -1)\n",
        "X_test_flat = X_test.reshape(X_test.shape[0], -1)\n",
        "\n",
        "# Train SVM model\n",
        "svm = SVC(kernel='linear', C=1.0, random_state=42)\n",
        "svm.fit(X_train_flat, y_train)\n",
        "\n",
        "# Make predictions\n",
        "y_pred = svm.predict(X_test_flat)\n",
        "\n",
        "# Evaluate the model\n",
        "print(\"Accuracy:\", accuracy_score(y_test, y_pred))\n",
        "print(\"Classification Report:\\n\", classification_report(y_test, y_pred, target_names=le.classes_))\n",
        "\n",
        "# Plot some predictions\n",
        "def plot_predictions(images, true_labels, pred_labels, label_encoder, n=10):\n",
        "    plt.figure(figsize=(20, 4))\n",
        "    for i in range(n):\n",
        "        ax = plt.subplot(2, n, i + 1)\n",
        "        plt.imshow(images[i])\n",
        "        true_label = label_encoder.inverse_transform([true_labels[i]])[0]\n",
        "        pred_label = label_encoder.inverse_transform([pred_labels[i]])[0]\n",
        "        plt.title(f\"True: {true_label}\\nPred: {pred_label}\")\n",
        "        plt.axis(\"off\")\n",
        "    plt.show()\n",
        "\n",
        "plot_predictions(X_test, y_test, y_pred, le)\n"
      ],
      "metadata": {
        "colab": {
          "base_uri": "https://localhost:8080/",
          "height": 362
        },
        "id": "PDv1iryU0rTH",
        "outputId": "cf31d21d-b3d5-4f27-d162-b9da69e579a9"
      },
      "execution_count": 10,
      "outputs": [
        {
          "output_type": "stream",
          "name": "stdout",
          "text": [
            "Accuracy: 1.0\n",
            "Classification Report:\n",
            "               precision    recall  f1-score   support\n",
            "\n",
            "        cats       1.00      1.00      1.00        12\n",
            "        dogs       1.00      1.00      1.00         8\n",
            "\n",
            "    accuracy                           1.00        20\n",
            "   macro avg       1.00      1.00      1.00        20\n",
            "weighted avg       1.00      1.00      1.00        20\n",
            "\n"
          ]
        },
        {
          "output_type": "display_data",
          "data": {
            "text/plain": [
              "<Figure size 2000x400 with 10 Axes>"
            ],
            "image/png": "[encoded data removed]"
          },
          "metadata": {}
        }
      ]
    },
    {
      "cell_type": "code",
      "source": [],
      "metadata": {
        "id": "dx98NXRn0i1o"
      },
      "execution_count": null,
      "outputs": []
    }
  ],
  "metadata": {
    "colab": {
      "provenance": []
    },
    "kernelspec": {
      "display_name": "Python 3",
      "name": "python3"
    },
    "language_info": {
      "name": "python"
    }
  },
  "nbformat": 4,
  "nbformat_minor": 0
}